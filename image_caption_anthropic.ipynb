{
  "nbformat": 4,
  "nbformat_minor": 0,
  "metadata": {
    "colab": {
      "private_outputs": true,
      "provenance": [],
      "mount_file_id": "1WMuHchMQhwgEhFqDGeMpHkcQzaXgL9Dd",
      "authorship_tag": "ABX9TyPCKAJKae1Fh/V0fMB1QG53",
      "include_colab_link": true
    },
    "kernelspec": {
      "name": "python3",
      "display_name": "Python 3"
    },
    "language_info": {
      "name": "python"
    }
  },
  "cells": [
    {
      "cell_type": "markdown",
      "metadata": {
        "id": "view-in-github",
        "colab_type": "text"
      },
      "source": [
        "<a href=\"https://colab.research.google.com/github/michaelwnau/anthropic-notebooks/blob/main/image_caption_anthropic.ipynb\" target=\"_parent\"><img src=\"https://colab.research.google.com/assets/colab-badge.svg\" alt=\"Open In Colab\"/></a>"
      ]
    },
    {
      "cell_type": "code",
      "source": [
        "from google.colab import userdata\n",
        "API_KEY = userdata.get('ANTHROPIC_API_KEY')\n",
        "#print(f\"API Key (first 10 characters): {API_KEY[:10]}...\")"
      ],
      "metadata": {
        "id": "mmKI297nM6FK"
      },
      "execution_count": null,
      "outputs": []
    },
    {
      "cell_type": "code",
      "source": [
        "from anthropic import Anthropic\n",
        "\n",
        "client = Anthropic(api_key=API_KEY)\n",
        "MODEL_NAME = \"claude-3-opus-20240229\"\n",
        "\n",
        "def get_completion(messages):\n",
        "    try:\n",
        "        response = client.messages.create(\n",
        "            model=MODEL_NAME,\n",
        "            max_tokens=2048,\n",
        "            temperature=0,\n",
        "            messages=messages\n",
        "        )\n",
        "        return response.content[0].text\n",
        "    except Exception as e:\n",
        "        return f\"An error occurred: {str(e)}\"\n",
        "\n",
        "# Test the client\n",
        "test_message = [{\"role\": \"user\", \"content\": \"Hello, Claude!\"}]\n",
        "print(get_completion(test_message))"
      ],
      "metadata": {
        "id": "X8tRgJsFNUA-"
      },
      "execution_count": null,
      "outputs": []
    },
    {
      "cell_type": "code",
      "source": [
        "import base64\n",
        "\n",
        "# Read and encode the image\n",
        "# This example uses an photo taken by a smartphone of a whiteboard\n",
        "with open(\"/content/drive/MyDrive/<<whiteboard>>.jpg\", \"rb\") as image_file:\n",
        "    base64_string = base64.b64encode(image_file.read()).decode('utf-8')\n",
        "\n",
        "messages = [\n",
        "    {\n",
        "        \"role\": \"user\",\n",
        "        \"content\": [\n",
        "            {\"type\": \"image\", \"source\": {\"type\": \"base64\", \"media_type\": \"image/jpeg\", \"data\": base64_string}},\n",
        "            {\"type\": \"text\", \"text\": \"What's in this image? Answer in a single sentence.\"}\n",
        "        ]\n",
        "    }\n",
        "]\n",
        "\n",
        "print(get_completion(messages))"
      ],
      "metadata": {
        "id": "l7lefkzmMrT7"
      },
      "execution_count": null,
      "outputs": []
    }
  ]
}